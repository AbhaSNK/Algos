{
 "cells": [
  {
   "cell_type": "markdown",
   "id": "b2294702",
   "metadata": {},
   "source": [
    "# A. QAOA in QAOA\n",
    "\n",
    "### Step 1 :\n",
    "We would scale each stock closing prices between -1 and 1 through a simple linear approach."
   ]
  },
  {
   "cell_type": "code",
   "execution_count": null,
   "id": "00e0eb04",
   "metadata": {},
   "outputs": [],
   "source": []
  },
  {
   "cell_type": "markdown",
   "id": "74926893",
   "metadata": {},
   "source": [
    "### Step 2: \n",
    "Suppose there are 500 stocks and we only can use 5 qubits (we might be able to use more. Maybe, we can try for a paid IBM service later on for IBM Falcon with 27 qubits, but that seems expensive: 1.6 USD/sec). We will randomly divide our portfolio into sub-portfolios with 5 stocks each. This would give us 100 sub-portfolios."
   ]
  },
  {
   "cell_type": "code",
   "execution_count": null,
   "id": "b25cca54",
   "metadata": {},
   "outputs": [],
   "source": []
  },
  {
   "cell_type": "markdown",
   "id": "345120d5",
   "metadata": {},
   "source": [
    "### Step 3: \n",
    "\n",
    "We would run QAOA for each of these 100 sub-portfolios. There is a way to run mutiple jobs in a Session, but we would have to figure out how that can be done for the algorithm itself. If we can't, we can run them separately."
   ]
  },
  {
   "cell_type": "code",
   "execution_count": null,
   "id": "8b93f32e",
   "metadata": {},
   "outputs": [],
   "source": []
  },
  {
   "cell_type": "markdown",
   "id": "8d608f77",
   "metadata": {},
   "source": [
    "### Step 4:\n",
    "\n",
    "Next, 100/5=20, which is still greater than 5, so we would again run 20 QAOA models. We would divide 100 into 20 bigger sub-portfolios randomly. This is the 1st stage of merging.\n"
   ]
  },
  {
   "cell_type": "code",
   "execution_count": null,
   "id": "4cc357b3",
   "metadata": {},
   "outputs": [],
   "source": []
  },
  {
   "cell_type": "markdown",
   "id": "16ee8697",
   "metadata": {},
   "source": [
    "### Step 5: \n",
    "\n",
    "Suppose the results of 5 smaller portfolios within one of this bigger portfolio are [1,1,0,0,1], [0,1,1,0,0], [1,0,0,0,0], [0,0,1,0,1] and [1,0,1,0,1]. Now, QAOA has to be run for each of these 20 bigger sub-portfolios by considering each smaller sub-portfolio as 1 single node. The mean for each small sub-portfolio would be taken as mean of means (mean taken for a sub-portfolio each day). The covariance matrix between smaller sub-portfolios would be calculated by taking cov between each time series from 1 with that of the other and averaging it out (average of 5*5=25 covariances) and the covariance for 1 small sub-portfolio would be the average of upper triangle of the cov matrix within that smaller sub-portfolio."
   ]
  },
  {
   "cell_type": "code",
   "execution_count": null,
   "id": "4ff8e99f",
   "metadata": {},
   "outputs": [],
   "source": []
  },
  {
   "cell_type": "markdown",
   "id": "4038dcc4",
   "metadata": {},
   "source": [
    "### Step 6: \n",
    "\n",
    "Suppose the QAOA output for 1 bigger sub-portfolio is [1,1,0,1,0], then the interpretation of this would be to take the smaller portfolio result as it is for all 1s, but negating the output for all the 0s."
   ]
  },
  {
   "cell_type": "code",
   "execution_count": null,
   "id": "ad00b7a8",
   "metadata": {},
   "outputs": [],
   "source": []
  },
  {
   "cell_type": "markdown",
   "id": "5f476c3a",
   "metadata": {},
   "source": [
    "### Step 7: \n",
    "\n",
    "Since 20>5, we would have to again create bigger portfolios with 20/5=4, i.e combining 5 of the bigger sub-portfolios and the final interpretation would be similar to how we concluded in step 6. It would end here, since 4<5."
   ]
  },
  {
   "cell_type": "code",
   "execution_count": null,
   "id": "f3407fbe",
   "metadata": {},
   "outputs": [],
   "source": []
  },
  {
   "cell_type": "markdown",
   "id": "d00fae90",
   "metadata": {},
   "source": [
    "## B. Classical Portfolio Optimization\n",
    "\n",
    "### Genetic Algorithm"
   ]
  },
  {
   "cell_type": "code",
   "execution_count": null,
   "id": "ef7791ba",
   "metadata": {},
   "outputs": [],
   "source": []
  },
  {
   "cell_type": "markdown",
   "id": "7c5d7930",
   "metadata": {},
   "source": [
    "# C. Time- Series Prediction\n",
    "\n",
    "## Quantum noise-induced reservoir computing\n",
    "### Step 1: \n",
    "We would again be using the scaled time series (scaled between -1 and 1)"
   ]
  },
  {
   "cell_type": "code",
   "execution_count": null,
   "id": "1597f1ca",
   "metadata": {},
   "outputs": [],
   "source": []
  },
  {
   "cell_type": "markdown",
   "id": "c897f434",
   "metadata": {},
   "source": [
    "### Step 2:\n",
    "For each of the 1s in the final output from the previous algorithm, we would want to make predictions for 5 time steps."
   ]
  },
  {
   "cell_type": "code",
   "execution_count": null,
   "id": "96e9e06d",
   "metadata": {},
   "outputs": [],
   "source": []
  },
  {
   "cell_type": "markdown",
   "id": "f60f4510",
   "metadata": {},
   "source": [
    "### Step 3:\n",
    "\n",
    "We would be using an density matrix simulator and use 5 qubits."
   ]
  },
  {
   "cell_type": "code",
   "execution_count": null,
   "id": "026acb06",
   "metadata": {},
   "outputs": [],
   "source": []
  },
  {
   "cell_type": "markdown",
   "id": "97ad09cd",
   "metadata": {},
   "source": [
    "### Step 4:\n",
    "\n",
    "We need to choose a window, which could be 20. This would mean we would be creating 20 parametric circuits and binding values as dicussed in the Algorithms_approaches.doc. (RX, RZZ and noise channels)."
   ]
  },
  {
   "cell_type": "code",
   "execution_count": null,
   "id": "0dd62242",
   "metadata": {},
   "outputs": [],
   "source": []
  },
  {
   "cell_type": "markdown",
   "id": "66f32d4f",
   "metadata": {},
   "source": [
    "### Step 5:\n",
    "\n",
    "We would be calculating expectations w.r.t each qubit by taking a trace of the reduced density matrix w.r.t each qubit."
   ]
  },
  {
   "cell_type": "code",
   "execution_count": null,
   "id": "5041cbb4",
   "metadata": {},
   "outputs": [],
   "source": []
  },
  {
   "cell_type": "markdown",
   "id": "fdd6d451",
   "metadata": {},
   "source": [
    "### Step 6:\n",
    "\n",
    "The above would give us a 20 X 5 matrix with scaled target for the 20 time steps."
   ]
  },
  {
   "cell_type": "code",
   "execution_count": null,
   "id": "bf231064",
   "metadata": {},
   "outputs": [],
   "source": []
  },
  {
   "cell_type": "markdown",
   "id": "48cecd0b",
   "metadata": {},
   "source": [
    "### Step 7:\n",
    "\n",
    "We will perform a linear regression (classical) and get 5 weights, using which we will again create 5 more parametric circuits and perform predictions for 5 time steps."
   ]
  },
  {
   "cell_type": "code",
   "execution_count": null,
   "id": "70487f53",
   "metadata": {},
   "outputs": [],
   "source": []
  },
  {
   "cell_type": "markdown",
   "id": "8c321c79",
   "metadata": {},
   "source": [
    "### Step 8:\n",
    "\n",
    "The predictions would have to be rescaled back to the original scale of the time series."
   ]
  },
  {
   "cell_type": "code",
   "execution_count": null,
   "id": "18b874ac",
   "metadata": {},
   "outputs": [],
   "source": []
  }
 ],
 "metadata": {
  "kernelspec": {
   "display_name": "Python (Qiskitenv)",
   "language": "python",
   "name": "qiskitenv"
  },
  "language_info": {
   "codemirror_mode": {
    "name": "ipython",
    "version": 3
   },
   "file_extension": ".py",
   "mimetype": "text/x-python",
   "name": "python",
   "nbconvert_exporter": "python",
   "pygments_lexer": "ipython3",
   "version": "3.9.12"
  }
 },
 "nbformat": 4,
 "nbformat_minor": 5
}
